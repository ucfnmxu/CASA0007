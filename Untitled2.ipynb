{
 "cells": [
  {
   "cell_type": "code",
   "execution_count": 8,
   "id": "c2516e58-ccb8-47b8-a6c0-c7ffe6654625",
   "metadata": {},
   "outputs": [],
   "source": [
    "import pandas as pd\n",
    "from sklearn import linear_model\n",
    "import statsmodels.api as sm\n",
    "import pandas as pd\n",
    "from sklearn.linear_model import LinearRegression\n",
    "import statsmodels.api as sm\n",
    "\n",
    "import numpy as np\n",
    "\n",
    "import sklearn\n",
    "from sklearn.linear_model import LogisticRegression\n",
    "from sklearn.metrics import confusion_matrix\n",
    "\n",
    "import matplotlib.pyplot as plt\n",
    "import seaborn as sn"
   ]
  },
  {
   "cell_type": "raw",
   "id": "f1d29483-798f-4386-ba5c-7974a0fc2366",
   "metadata": {},
   "source": [
    "cases_total = pd.read_csv('budget.csv')"
   ]
  },
  {
   "cell_type": "code",
   "execution_count": 37,
   "id": "d13f0ddf-63ea-4508-89b5-9248b16a99e0",
   "metadata": {},
   "outputs": [
    {
     "name": "stdout",
     "output_type": "stream",
     "text": [
      "<class 'pandas.core.frame.DataFrame'>\n",
      "RangeIndex: 152 entries, 0 to 151\n",
      "Data columns (total 8 columns):\n",
      " #   Column                   Non-Null Count  Dtype  \n",
      "---  ------                   --------------  -----  \n",
      " 0    2018_cases_rates        152 non-null    float64\n",
      " 1   total_budget_capita      152 non-null    float64\n",
      " 2   clean_air_percap         152 non-null    float64\n",
      " 3   clean_environ_percap     152 non-null    float64\n",
      " 4   health_training_percap   152 non-null    float64\n",
      " 5   school_awareness_percap  152 non-null    float64\n",
      " 6   media_awareness_percap   152 non-null    float64\n",
      " 7   sub_counselling_percap   152 non-null    float64\n",
      "dtypes: float64(8)\n",
      "memory usage: 9.6 KB\n"
     ]
    }
   ],
   "source": [
    "cases_total.head(10)\n",
    "df = pd.DataFrame(cases_total)\n",
    "df.info()"
   ]
  },
  {
   "cell_type": "code",
   "execution_count": 48,
   "id": "ff78f636-5e71-42b6-b19f-eb5f81153053",
   "metadata": {},
   "outputs": [],
   "source": [
    "#X=df[['total_budget_capita']]\n",
    "#X=df[['clean_air_percap']]\n",
    "#X=df[['clean_environ_percap']]\n",
    "#X=df[['health_training_percap']]\n",
    "#X=df[['school_awareness_percap']]\n",
    "#X=df[['media_awareness_percap']]\n",
    "X=df[['clean_air_percap','clean_environ_percap','health_training_percap','school_awareness_percap','media_awareness_percap','sub_counselling_percap']]\n",
    "\n",
    "Y=df[' 2018_cases_rates']"
   ]
  },
  {
   "cell_type": "code",
   "execution_count": 49,
   "id": "d70e35ad-4691-4c28-b2b2-08fca4d7dd4c",
   "metadata": {},
   "outputs": [
    {
     "name": "stdout",
     "output_type": "stream",
     "text": [
      "Intercept: \n",
      " 0.0033388486105034713\n",
      "Coefficients: \n",
      " [-0.00052088 -0.0011613   0.00031062 -0.0006823   0.00342513  0.00364744]\n"
     ]
    }
   ],
   "source": [
    "regr = linear_model.LinearRegression()\n",
    "regr.fit(X, Y)\n",
    "print('Intercept: \\n', regr.intercept_)\n",
    "print('Coefficients: \\n', regr.coef_)"
   ]
  },
  {
   "cell_type": "code",
   "execution_count": 50,
   "id": "2eefc627-f667-4e42-89e3-b5eca89f5482",
   "metadata": {},
   "outputs": [
    {
     "name": "stdout",
     "output_type": "stream",
     "text": [
      "                                 OLS Regression Results                                \n",
      "=======================================================================================\n",
      "Dep. Variable:       2018_cases_rates   R-squared (uncentered):                   0.799\n",
      "Model:                            OLS   Adj. R-squared (uncentered):              0.791\n",
      "Method:                 Least Squares   F-statistic:                              96.63\n",
      "Date:                Sat, 13 Nov 2021   Prob (F-statistic):                    2.57e-48\n",
      "Time:                        14:46:00   Log-Likelihood:                          756.75\n",
      "No. Observations:                 152   AIC:                                     -1501.\n",
      "Df Residuals:                     146   BIC:                                     -1483.\n",
      "Df Model:                           6                                                  \n",
      "Covariance Type:            nonrobust                                                  \n",
      "===========================================================================================\n",
      "                              coef    std err          t      P>|t|      [0.025      0.975]\n",
      "-------------------------------------------------------------------------------------------\n",
      "clean_air_percap            0.0015      0.002      0.855      0.394      -0.002       0.005\n",
      "clean_environ_percap        0.0035      0.002      2.314      0.022       0.001       0.007\n",
      "health_training_percap     -0.0035      0.004     -0.888      0.376      -0.011       0.004\n",
      "school_awareness_percap    -0.0016      0.001     -1.412      0.160      -0.004       0.001\n",
      "media_awareness_percap      0.0148      0.003      4.988      0.000       0.009       0.021\n",
      "sub_counselling_percap      0.0244      0.005      5.306      0.000       0.015       0.034\n",
      "==============================================================================\n",
      "Omnibus:                       26.843   Durbin-Watson:                   1.980\n",
      "Prob(Omnibus):                  0.000   Jarque-Bera (JB):               54.788\n",
      "Skew:                           0.781   Prob(JB):                     1.27e-12\n",
      "Kurtosis:                       5.493   Cond. No.                         15.0\n",
      "==============================================================================\n",
      "\n",
      "Notes:\n",
      "[1] R² is computed without centering (uncentered) since the model does not contain a constant.\n",
      "[2] Standard Errors assume that the covariance matrix of the errors is correctly specified.\n"
     ]
    }
   ],
   "source": [
    "#X = sm.add_constant(X) # adding a constant\n",
    "model = sm.OLS(Y, X).fit()\n",
    "predictions = model.predict(X)\n",
    "print_model = model.summary()\n",
    "print(print_model)"
   ]
  },
  {
   "cell_type": "markdown",
   "id": "236596f4-e526-41a1-ae08-3d1b09fd2492",
   "metadata": {},
   "source": [
    "dd"
   ]
  },
  {
   "cell_type": "code",
   "execution_count": 51,
   "id": "bd4ddb7b-2ab5-4520-b755-069a93a2a2e0",
   "metadata": {},
   "outputs": [
    {
     "name": "stdout",
     "output_type": "stream",
     "text": [
      "0.0004216971018272198\n"
     ]
    }
   ],
   "source": [
    "print(model.ssr)"
   ]
  },
  {
   "cell_type": "code",
   "execution_count": 62,
   "id": "5ecbb980-14a5-4493-a222-9c48952b819c",
   "metadata": {},
   "outputs": [],
   "source": [
    "ssf=0.0004216971018272198\n",
    "ssr=0.00042397592761409116\n",
    "dfr=147\n",
    "dff=146\n",
    "F=((ssr-ssf)/(dfr-dff))/(ssf/(152-dff))"
   ]
  },
  {
   "cell_type": "code",
   "execution_count": 63,
   "id": "96da709b-e966-462b-bc60-c7c49df67d6a",
   "metadata": {},
   "outputs": [
    {
     "name": "stdout",
     "output_type": "stream",
     "text": [
      "0.03242363929461009\n"
     ]
    }
   ],
   "source": [
    "print(F)"
   ]
  },
  {
   "cell_type": "code",
   "execution_count": null,
   "id": "f01432ef-f59c-4ac8-bede-019a8b792d1e",
   "metadata": {},
   "outputs": [],
   "source": []
  }
 ],
 "metadata": {
  "kernelspec": {
   "display_name": "Python 3 (ipykernel)",
   "language": "python",
   "name": "python3"
  },
  "language_info": {
   "codemirror_mode": {
    "name": "ipython",
    "version": 3
   },
   "file_extension": ".py",
   "mimetype": "text/x-python",
   "name": "python",
   "nbconvert_exporter": "python",
   "pygments_lexer": "ipython3",
   "version": "3.9.6"
  }
 },
 "nbformat": 4,
 "nbformat_minor": 5
}
