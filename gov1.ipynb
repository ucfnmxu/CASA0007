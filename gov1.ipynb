{
 "cells": [
  {
   "cell_type": "code",
   "execution_count": 113,
   "id": "df353ce2-12a7-4a6c-b9a8-d6e2713bbd6c",
   "metadata": {},
   "outputs": [],
   "source": [
    "import pandas as pd\n",
    "from sklearn import linear_model\n",
    "import statsmodels.api as sm\n",
    "import pandas as pd\n",
    "from sklearn.linear_model import LinearRegression\n",
    "import statsmodels.api as sm\n",
    "\n",
    "import numpy as np\n",
    "\n",
    "import sklearn\n",
    "from sklearn.linear_model import LogisticRegression\n",
    "from sklearn.metrics import confusion_matrix\n",
    "\n",
    "import matplotlib.pyplot as plt\n",
    "import seaborn as sn"
   ]
  },
  {
   "cell_type": "code",
   "execution_count": 114,
   "id": "1f45fbd6-fa05-4e49-bc43-4ba160a89be7",
   "metadata": {},
   "outputs": [],
   "source": [
    "cases_total = pd.read_csv('budget.csv')"
   ]
  },
  {
   "cell_type": "code",
   "execution_count": 115,
   "id": "e860371c-7ceb-46b5-a23d-cc3273ef9279",
   "metadata": {},
   "outputs": [
    {
     "name": "stdout",
     "output_type": "stream",
     "text": [
      "<class 'pandas.core.frame.DataFrame'>\n",
      "RangeIndex: 152 entries, 0 to 151\n",
      "Data columns (total 8 columns):\n",
      " #   Column                   Non-Null Count  Dtype  \n",
      "---  ------                   --------------  -----  \n",
      " 0    2018_cases_rates        152 non-null    float64\n",
      " 1   total_budget_capita      152 non-null    float64\n",
      " 2   clean_air_percap         152 non-null    float64\n",
      " 3   clean_environ_percap     152 non-null    float64\n",
      " 4   health_training_percap   152 non-null    float64\n",
      " 5   school_awareness_percap  152 non-null    float64\n",
      " 6   media_awareness_percap   152 non-null    float64\n",
      " 7   sub_counselling_percap   152 non-null    float64\n",
      "dtypes: float64(8)\n",
      "memory usage: 9.6 KB\n"
     ]
    }
   ],
   "source": [
    "cases_total.head(10)\n",
    "df = pd.DataFrame(cases_total)\n",
    "df.info()"
   ]
  },
  {
   "cell_type": "code",
   "execution_count": 116,
   "id": "db4e4547-49fe-49d2-a54f-27bf20c692b3",
   "metadata": {},
   "outputs": [
    {
     "name": "stdout",
     "output_type": "stream",
     "text": [
      "<class 'pandas.core.frame.DataFrame'>\n",
      "RangeIndex: 152 entries, 0 to 151\n",
      "Data columns (total 8 columns):\n",
      " #   Column                   Non-Null Count  Dtype  \n",
      "---  ------                   --------------  -----  \n",
      " 0    2018_cases_rates        152 non-null    float64\n",
      " 1   total_budget_capita      152 non-null    float64\n",
      " 2   clean_air_percap         152 non-null    float64\n",
      " 3   clean_environ_percap     152 non-null    float64\n",
      " 4   health_training_percap   152 non-null    float64\n",
      " 5   school_awareness_percap  152 non-null    float64\n",
      " 6   media_awareness_percap   152 non-null    float64\n",
      " 7   sub_counselling_percap   152 non-null    float64\n",
      "dtypes: float64(8)\n",
      "memory usage: 9.6 KB\n"
     ]
    }
   ],
   "source": [
    "#df = pd.DataFrame(case_total,columns=['2018_cases_rate','clean_air_percap','clean_environ_percap','health_training_percap','school_awareness_percap','media_awareness_percap','sub_counselling_percap'])\n",
    "#df1 = df[['2018_cases_rates', 'clean_air_percap','clean_environ_percap','health_training_percap','school_awareness_percap','media_awareness_percap','sub_counselling_percap']]\n",
    "#df.info()\n",
    "#df['clean_air_percap'] = pd.to_numeric(df['clean_air_percap'],errors = 'coerce')\n",
    "#df[' clean_air_rate'] = pd.to_numeric(df[' clean_air_rate'],errors = 'coerce')\n",
    "df.info()"
   ]
  },
  {
   "cell_type": "code",
   "execution_count": 117,
   "id": "530448ef-75f6-4001-88f9-f31d578ef73e",
   "metadata": {},
   "outputs": [],
   "source": [
    "#df.drop(['local_auth'ority_area'], axis = 1)\n",
    "#X=df[['clean_air_percap','clean_environ_percap','health_training_percap','school_awareness_percap','media_awareness_percap','sub_counselling_percap']]\n",
    "#X=df[['clean_environ_percap','school_awareness_percap','media_awareness_percap','sub_counselling_percap']]\n",
    "#X=df[['clean_air_rate','clean_environ_rate','health_training_rate','school_awareness_rate','media_awareness_rate','sub_counselling_rate']]\n",
    "#X=df[['school_awareness_percap']]\n",
    "#Y=df[' 2018_cases_1000cap']\n",
    "X=df[['clean_air_percap','clean_environ_percap','school_awareness_percap','media_awareness_percap','sub_counselling_percap']]\n",
    "Y=df[' 2018_cases_rates']"
   ]
  },
  {
   "cell_type": "code",
   "execution_count": 118,
   "id": "ac67026e-270c-490d-8024-f3a05f9b1c9a",
   "metadata": {},
   "outputs": [
    {
     "name": "stdout",
     "output_type": "stream",
     "text": [
      "Intercept: \n",
      " 0.0033337649213182542\n",
      "Coefficients: \n",
      " [-0.00047502 -0.00112296 -0.00064137  0.00345036  0.00369752]\n"
     ]
    }
   ],
   "source": [
    "#df.info()\n",
    "regr = linear_model.LinearRegression()\n",
    "regr.fit(X, Y)\n",
    "print('Intercept: \\n', regr.intercept_)\n",
    "print('Coefficients: \\n', regr.coef_)"
   ]
  },
  {
   "cell_type": "code",
   "execution_count": 119,
   "id": "d9640201-ff97-4e79-a261-7c8994379238",
   "metadata": {},
   "outputs": [
    {
     "name": "stdout",
     "output_type": "stream",
     "text": [
      "                                 OLS Regression Results                                \n",
      "=======================================================================================\n",
      "Dep. Variable:       2018_cases_rates   R-squared (uncentered):                   0.798\n",
      "Model:                            OLS   Adj. R-squared (uncentered):              0.791\n",
      "Method:                 Least Squares   F-statistic:                              116.0\n",
      "Date:                Sat, 13 Nov 2021   Prob (F-statistic):                    3.35e-49\n",
      "Time:                        17:02:19   Log-Likelihood:                          756.34\n",
      "No. Observations:                 152   AIC:                                     -1503.\n",
      "Df Residuals:                     147   BIC:                                     -1488.\n",
      "Df Model:                           5                                                  \n",
      "Covariance Type:            nonrobust                                                  \n",
      "===========================================================================================\n",
      "                              coef    std err          t      P>|t|      [0.025      0.975]\n",
      "-------------------------------------------------------------------------------------------\n",
      "clean_air_percap            0.0010      0.002      0.604      0.547      -0.002       0.004\n",
      "clean_environ_percap        0.0032      0.001      2.158      0.033       0.000       0.006\n",
      "school_awareness_percap    -0.0021      0.001     -2.092      0.038      -0.004      -0.000\n",
      "media_awareness_percap      0.0148      0.003      4.965      0.000       0.009       0.021\n",
      "sub_counselling_percap      0.0242      0.005      5.271      0.000       0.015       0.033\n",
      "==============================================================================\n",
      "Omnibus:                       25.512   Durbin-Watson:                   1.486\n",
      "Prob(Omnibus):                  0.000   Jarque-Bera (JB):               51.544\n",
      "Skew:                           0.746   Prob(JB):                     6.42e-12\n",
      "Kurtosis:                       5.432   Cond. No.                         14.6\n",
      "==============================================================================\n",
      "\n",
      "Notes:\n",
      "[1] R² is computed without centering (uncentered) since the model does not contain a constant.\n",
      "[2] Standard Errors assume that the covariance matrix of the errors is correctly specified.\n"
     ]
    }
   ],
   "source": [
    "#X = sm.add_constant(X) # adding a constant\n",
    "model = sm.OLS(Y, X).fit()\n",
    "predictions = model.predict(X)\n",
    "print_model = model.summary()\n",
    "print(print_model)"
   ]
  },
  {
   "cell_type": "code",
   "execution_count": 120,
   "id": "80b5d9e1-200a-4bbf-acfc-a663a7e9422c",
   "metadata": {},
   "outputs": [
    {
     "name": "stdout",
     "output_type": "stream",
     "text": [
      "0.00042397592761409116\n"
     ]
    }
   ],
   "source": [
    "print(model.ssr)"
   ]
  },
  {
   "cell_type": "code",
   "execution_count": null,
   "id": "a2a2410e-6108-4257-81fb-451db812486d",
   "metadata": {},
   "outputs": [],
   "source": []
  },
  {
   "cell_type": "code",
   "execution_count": null,
   "id": "bf0afb61-9805-4ea9-85fa-b9d69e31c5bf",
   "metadata": {},
   "outputs": [],
   "source": []
  },
  {
   "cell_type": "code",
   "execution_count": null,
   "id": "de846984-8d1a-4fba-8b06-6ae86756d58b",
   "metadata": {},
   "outputs": [],
   "source": []
  }
 ],
 "metadata": {
  "kernelspec": {
   "display_name": "Python 3 (ipykernel)",
   "language": "python",
   "name": "python3"
  },
  "language_info": {
   "codemirror_mode": {
    "name": "ipython",
    "version": 3
   },
   "file_extension": ".py",
   "mimetype": "text/x-python",
   "name": "python",
   "nbconvert_exporter": "python",
   "pygments_lexer": "ipython3",
   "version": "3.9.6"
  }
 },
 "nbformat": 4,
 "nbformat_minor": 5
}
